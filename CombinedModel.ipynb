{
 "cells": [
  {
   "cell_type": "markdown",
   "metadata": {},
   "source": [
    "# Sentiment + LSTM Model\n",
    "\n",
    "The objective of this notebook is to forecast the closing price of Nvidia (NVDA) stock by integrating both market sentiment and historical price data.  \n",
    "\n",
    "Sentiment scores were generated from Stocktwits messages mentioning Nvidia using a pre-trained transformer model (Twitter RoBERTa-base). These scores aim to capture the crowd psychology around Nvidia.\n",
    "\n",
    "Additionally, the model incorporates **lag features** based on historical closing prices. These features help the model learn temporal dependencies and trends from past values.\n",
    "\n",
    "The combined dataset—comprising sentiment scores and engineered lag features—is then used to train a **Long Short-Term Memory (LSTM)** neural network, a type of recurrent neural network well-suited for time series forecasting."
   ]
  },
  {
   "cell_type": "code",
   "execution_count": 1,
   "metadata": {
    "executionInfo": {
     "elapsed": 14490,
     "status": "ok",
     "timestamp": 1745465497366,
     "user": {
      "displayName": "Vrishank B.",
      "userId": "12912681986349024348"
     },
     "user_tz": 240
    },
    "id": "oz35_EW72TqN"
   },
   "outputs": [],
   "source": [
    "import pandas as pd\n",
    "import numpy as np\n",
    "from sklearn.preprocessing import MinMaxScaler\n",
    "from sklearn.model_selection import train_test_split\n",
    "import tensorflow as t\n",
    "import matplotlib.pyplot as plt\n",
    "from sklearn.metrics import mean_squared_error\n",
    "import datetime\n",
    "from tensorflow.keras.models import Sequential\n",
    "from tensorflow.keras.optimizers import Adam\n",
    "from tensorflow.keras import layers"
   ]
  },
  {
   "cell_type": "code",
   "execution_count": 4,
   "metadata": {
    "colab": {
     "base_uri": "https://localhost:8080/",
     "height": 206
    },
    "executionInfo": {
     "elapsed": 76,
     "status": "ok",
     "timestamp": 1745465610431,
     "user": {
      "displayName": "Vrishank B.",
      "userId": "12912681986349024348"
     },
     "user_tz": 240
    },
    "id": "RXK2ciic2n67",
    "outputId": "747afa05-fc63-43c2-cc5b-1923c3cb73c5"
   },
   "outputs": [
    {
     "data": {
      "application/vnd.google.colaboratory.intrinsic+json": {
       "summary": "{\n  \"name\": \"merged_df\",\n  \"rows\": 2014,\n  \"fields\": [\n    {\n      \"column\": \"Date\",\n      \"properties\": {\n        \"dtype\": \"date\",\n        \"min\": \"2014-01-02\",\n        \"max\": \"2021-12-30\",\n        \"num_unique_values\": 2014,\n        \"samples\": [\n          \"2018-10-04\",\n          \"2016-02-04\",\n          \"2015-07-27\"\n        ],\n        \"semantic_type\": \"\",\n        \"description\": \"\"\n      }\n    },\n    {\n      \"column\": \"Close\",\n      \"properties\": {\n        \"dtype\": \"string\",\n        \"num_unique_values\": 1938,\n        \"samples\": [\n          \"1.390236735343933\",\n          \"5.180027484893799\",\n          \"5.292460918426514\"\n        ],\n        \"semantic_type\": \"\",\n        \"description\": \"\"\n      }\n    },\n    {\n      \"column\": \"mean\",\n      \"properties\": {\n        \"dtype\": \"number\",\n        \"std\": 0.12154859087684473,\n        \"min\": -0.4246,\n        \"max\": 0.9889,\n        \"num_unique_values\": 1863,\n        \"samples\": [\n          0.38974,\n          0.1993266666666666,\n          0.0102061728395061\n        ],\n        \"semantic_type\": \"\",\n        \"description\": \"\"\n      }\n    },\n    {\n      \"column\": \"count\",\n      \"properties\": {\n        \"dtype\": \"number\",\n        \"std\": 414.02586592855675,\n        \"min\": 1.0,\n        \"max\": 4412.0,\n        \"num_unique_values\": 645,\n        \"samples\": [\n          1049.0,\n          1043.0,\n          2103.0\n        ],\n        \"semantic_type\": \"\",\n        \"description\": \"\"\n      }\n    }\n  ]\n}",
       "type": "dataframe",
       "variable_name": "merged_df"
      },
      "text/html": [
       "\n",
       "  <div id=\"df-736544c3-3d93-465b-bd68-6d8833e35ad9\" class=\"colab-df-container\">\n",
       "    <div>\n",
       "<style scoped>\n",
       "    .dataframe tbody tr th:only-of-type {\n",
       "        vertical-align: middle;\n",
       "    }\n",
       "\n",
       "    .dataframe tbody tr th {\n",
       "        vertical-align: top;\n",
       "    }\n",
       "\n",
       "    .dataframe thead th {\n",
       "        text-align: right;\n",
       "    }\n",
       "</style>\n",
       "<table border=\"1\" class=\"dataframe\">\n",
       "  <thead>\n",
       "    <tr style=\"text-align: right;\">\n",
       "      <th></th>\n",
       "      <th>Date</th>\n",
       "      <th>Close</th>\n",
       "      <th>mean</th>\n",
       "      <th>count</th>\n",
       "    </tr>\n",
       "  </thead>\n",
       "  <tbody>\n",
       "    <tr>\n",
       "      <th>0</th>\n",
       "      <td>2014-01-02</td>\n",
       "      <td>0.3739318549633026</td>\n",
       "      <td>-0.117343</td>\n",
       "      <td>7.0</td>\n",
       "    </tr>\n",
       "    <tr>\n",
       "      <th>1</th>\n",
       "      <td>2014-01-03</td>\n",
       "      <td>0.36945220828056335</td>\n",
       "      <td>0.000000</td>\n",
       "      <td>3.0</td>\n",
       "    </tr>\n",
       "    <tr>\n",
       "      <th>2</th>\n",
       "      <td>2014-01-06</td>\n",
       "      <td>0.37440332770347595</td>\n",
       "      <td>0.102030</td>\n",
       "      <td>20.0</td>\n",
       "    </tr>\n",
       "    <tr>\n",
       "      <th>3</th>\n",
       "      <td>2014-01-07</td>\n",
       "      <td>0.380533367395401</td>\n",
       "      <td>-0.054867</td>\n",
       "      <td>9.0</td>\n",
       "    </tr>\n",
       "    <tr>\n",
       "      <th>4</th>\n",
       "      <td>2014-01-08</td>\n",
       "      <td>0.38572031259536743</td>\n",
       "      <td>0.219977</td>\n",
       "      <td>13.0</td>\n",
       "    </tr>\n",
       "  </tbody>\n",
       "</table>\n",
       "</div>\n",
       "    <div class=\"colab-df-buttons\">\n",
       "\n",
       "  <div class=\"colab-df-container\">\n",
       "    <button class=\"colab-df-convert\" onclick=\"convertToInteractive('df-736544c3-3d93-465b-bd68-6d8833e35ad9')\"\n",
       "            title=\"Convert this dataframe to an interactive table.\"\n",
       "            style=\"display:none;\">\n",
       "\n",
       "  <svg xmlns=\"http://www.w3.org/2000/svg\" height=\"24px\" viewBox=\"0 -960 960 960\">\n",
       "    <path d=\"M120-120v-720h720v720H120Zm60-500h600v-160H180v160Zm220 220h160v-160H400v160Zm0 220h160v-160H400v160ZM180-400h160v-160H180v160Zm440 0h160v-160H620v160ZM180-180h160v-160H180v160Zm440 0h160v-160H620v160Z\"/>\n",
       "  </svg>\n",
       "    </button>\n",
       "\n",
       "  <style>\n",
       "    .colab-df-container {\n",
       "      display:flex;\n",
       "      gap: 12px;\n",
       "    }\n",
       "\n",
       "    .colab-df-convert {\n",
       "      background-color: #E8F0FE;\n",
       "      border: none;\n",
       "      border-radius: 50%;\n",
       "      cursor: pointer;\n",
       "      display: none;\n",
       "      fill: #1967D2;\n",
       "      height: 32px;\n",
       "      padding: 0 0 0 0;\n",
       "      width: 32px;\n",
       "    }\n",
       "\n",
       "    .colab-df-convert:hover {\n",
       "      background-color: #E2EBFA;\n",
       "      box-shadow: 0px 1px 2px rgba(60, 64, 67, 0.3), 0px 1px 3px 1px rgba(60, 64, 67, 0.15);\n",
       "      fill: #174EA6;\n",
       "    }\n",
       "\n",
       "    .colab-df-buttons div {\n",
       "      margin-bottom: 4px;\n",
       "    }\n",
       "\n",
       "    [theme=dark] .colab-df-convert {\n",
       "      background-color: #3B4455;\n",
       "      fill: #D2E3FC;\n",
       "    }\n",
       "\n",
       "    [theme=dark] .colab-df-convert:hover {\n",
       "      background-color: #434B5C;\n",
       "      box-shadow: 0px 1px 3px 1px rgba(0, 0, 0, 0.15);\n",
       "      filter: drop-shadow(0px 1px 2px rgba(0, 0, 0, 0.3));\n",
       "      fill: #FFFFFF;\n",
       "    }\n",
       "  </style>\n",
       "\n",
       "    <script>\n",
       "      const buttonEl =\n",
       "        document.querySelector('#df-736544c3-3d93-465b-bd68-6d8833e35ad9 button.colab-df-convert');\n",
       "      buttonEl.style.display =\n",
       "        google.colab.kernel.accessAllowed ? 'block' : 'none';\n",
       "\n",
       "      async function convertToInteractive(key) {\n",
       "        const element = document.querySelector('#df-736544c3-3d93-465b-bd68-6d8833e35ad9');\n",
       "        const dataTable =\n",
       "          await google.colab.kernel.invokeFunction('convertToInteractive',\n",
       "                                                    [key], {});\n",
       "        if (!dataTable) return;\n",
       "\n",
       "        const docLinkHtml = 'Like what you see? Visit the ' +\n",
       "          '<a target=\"_blank\" href=https://colab.research.google.com/notebooks/data_table.ipynb>data table notebook</a>'\n",
       "          + ' to learn more about interactive tables.';\n",
       "        element.innerHTML = '';\n",
       "        dataTable['output_type'] = 'display_data';\n",
       "        await google.colab.output.renderOutput(dataTable, element);\n",
       "        const docLink = document.createElement('div');\n",
       "        docLink.innerHTML = docLinkHtml;\n",
       "        element.appendChild(docLink);\n",
       "      }\n",
       "    </script>\n",
       "  </div>\n",
       "\n",
       "\n",
       "<div id=\"df-99ea0e99-7153-44da-9040-76fc8fa0327a\">\n",
       "  <button class=\"colab-df-quickchart\" onclick=\"quickchart('df-99ea0e99-7153-44da-9040-76fc8fa0327a')\"\n",
       "            title=\"Suggest charts\"\n",
       "            style=\"display:none;\">\n",
       "\n",
       "<svg xmlns=\"http://www.w3.org/2000/svg\" height=\"24px\"viewBox=\"0 0 24 24\"\n",
       "     width=\"24px\">\n",
       "    <g>\n",
       "        <path d=\"M19 3H5c-1.1 0-2 .9-2 2v14c0 1.1.9 2 2 2h14c1.1 0 2-.9 2-2V5c0-1.1-.9-2-2-2zM9 17H7v-7h2v7zm4 0h-2V7h2v10zm4 0h-2v-4h2v4z\"/>\n",
       "    </g>\n",
       "</svg>\n",
       "  </button>\n",
       "\n",
       "<style>\n",
       "  .colab-df-quickchart {\n",
       "      --bg-color: #E8F0FE;\n",
       "      --fill-color: #1967D2;\n",
       "      --hover-bg-color: #E2EBFA;\n",
       "      --hover-fill-color: #174EA6;\n",
       "      --disabled-fill-color: #AAA;\n",
       "      --disabled-bg-color: #DDD;\n",
       "  }\n",
       "\n",
       "  [theme=dark] .colab-df-quickchart {\n",
       "      --bg-color: #3B4455;\n",
       "      --fill-color: #D2E3FC;\n",
       "      --hover-bg-color: #434B5C;\n",
       "      --hover-fill-color: #FFFFFF;\n",
       "      --disabled-bg-color: #3B4455;\n",
       "      --disabled-fill-color: #666;\n",
       "  }\n",
       "\n",
       "  .colab-df-quickchart {\n",
       "    background-color: var(--bg-color);\n",
       "    border: none;\n",
       "    border-radius: 50%;\n",
       "    cursor: pointer;\n",
       "    display: none;\n",
       "    fill: var(--fill-color);\n",
       "    height: 32px;\n",
       "    padding: 0;\n",
       "    width: 32px;\n",
       "  }\n",
       "\n",
       "  .colab-df-quickchart:hover {\n",
       "    background-color: var(--hover-bg-color);\n",
       "    box-shadow: 0 1px 2px rgba(60, 64, 67, 0.3), 0 1px 3px 1px rgba(60, 64, 67, 0.15);\n",
       "    fill: var(--button-hover-fill-color);\n",
       "  }\n",
       "\n",
       "  .colab-df-quickchart-complete:disabled,\n",
       "  .colab-df-quickchart-complete:disabled:hover {\n",
       "    background-color: var(--disabled-bg-color);\n",
       "    fill: var(--disabled-fill-color);\n",
       "    box-shadow: none;\n",
       "  }\n",
       "\n",
       "  .colab-df-spinner {\n",
       "    border: 2px solid var(--fill-color);\n",
       "    border-color: transparent;\n",
       "    border-bottom-color: var(--fill-color);\n",
       "    animation:\n",
       "      spin 1s steps(1) infinite;\n",
       "  }\n",
       "\n",
       "  @keyframes spin {\n",
       "    0% {\n",
       "      border-color: transparent;\n",
       "      border-bottom-color: var(--fill-color);\n",
       "      border-left-color: var(--fill-color);\n",
       "    }\n",
       "    20% {\n",
       "      border-color: transparent;\n",
       "      border-left-color: var(--fill-color);\n",
       "      border-top-color: var(--fill-color);\n",
       "    }\n",
       "    30% {\n",
       "      border-color: transparent;\n",
       "      border-left-color: var(--fill-color);\n",
       "      border-top-color: var(--fill-color);\n",
       "      border-right-color: var(--fill-color);\n",
       "    }\n",
       "    40% {\n",
       "      border-color: transparent;\n",
       "      border-right-color: var(--fill-color);\n",
       "      border-top-color: var(--fill-color);\n",
       "    }\n",
       "    60% {\n",
       "      border-color: transparent;\n",
       "      border-right-color: var(--fill-color);\n",
       "    }\n",
       "    80% {\n",
       "      border-color: transparent;\n",
       "      border-right-color: var(--fill-color);\n",
       "      border-bottom-color: var(--fill-color);\n",
       "    }\n",
       "    90% {\n",
       "      border-color: transparent;\n",
       "      border-bottom-color: var(--fill-color);\n",
       "    }\n",
       "  }\n",
       "</style>\n",
       "\n",
       "  <script>\n",
       "    async function quickchart(key) {\n",
       "      const quickchartButtonEl =\n",
       "        document.querySelector('#' + key + ' button');\n",
       "      quickchartButtonEl.disabled = true;  // To prevent multiple clicks.\n",
       "      quickchartButtonEl.classList.add('colab-df-spinner');\n",
       "      try {\n",
       "        const charts = await google.colab.kernel.invokeFunction(\n",
       "            'suggestCharts', [key], {});\n",
       "      } catch (error) {\n",
       "        console.error('Error during call to suggestCharts:', error);\n",
       "      }\n",
       "      quickchartButtonEl.classList.remove('colab-df-spinner');\n",
       "      quickchartButtonEl.classList.add('colab-df-quickchart-complete');\n",
       "    }\n",
       "    (() => {\n",
       "      let quickchartButtonEl =\n",
       "        document.querySelector('#df-99ea0e99-7153-44da-9040-76fc8fa0327a button');\n",
       "      quickchartButtonEl.style.display =\n",
       "        google.colab.kernel.accessAllowed ? 'block' : 'none';\n",
       "    })();\n",
       "  </script>\n",
       "</div>\n",
       "\n",
       "    </div>\n",
       "  </div>\n"
      ],
      "text/plain": [
       "         Date                Close      mean  count\n",
       "0  2014-01-02   0.3739318549633026 -0.117343    7.0\n",
       "1  2014-01-03  0.36945220828056335  0.000000    3.0\n",
       "2  2014-01-06  0.37440332770347595  0.102030   20.0\n",
       "3  2014-01-07    0.380533367395401 -0.054867    9.0\n",
       "4  2014-01-08  0.38572031259536743  0.219977   13.0"
      ]
     },
     "execution_count": 4,
     "metadata": {},
     "output_type": "execute_result"
    }
   ],
   "source": [
    "# reading in the nvidia closing price and daily tweet summary\n",
    "nvidia_closing = pd.read_csv('./datasets/nvidiaClosingPrice.csv')\n",
    "daily_summary = pd.read_csv('./datasets/dailyTweetSummary.csv')\n",
    "\n",
    "\n",
    "# clean up header misalignment in nvidia_closing and remove rows where Date is NaN or not a date\n",
    "nvidia_closing = clean_df[pd.to_datetime(nvidia_closing['Date'], errors='coerce').notna()]\n",
    "\n",
    "# standardise date formats\n",
    "nvidia_closing['Date'] = pd.to_datetime(nvidia_closing['Date']).dt.date\n",
    "daily_summary['date'] = pd.to_datetime(daily_summary['date']).dt.date\n",
    "\n",
    "# keep only dates present in nvidia_closing\n",
    "daily_filtered = daily_summary[daily_summary['date'].isin(nvidia_closing['Date'].unique())]\n",
    "\n",
    "# merge the datasets\n",
    "merged_df = pd.merge(nvidia_closing, daily_filtered, left_on='Date', right_on='date', how='left')\n",
    "\n",
    "# drop the duplicate 'date' column\n",
    "merged_df = merged_df.drop(columns=['date'])\n",
    "\n",
    "# save into a csv\n",
    "merged_path = './datasets/merged.csv'\n",
    "merged_df.to_csv(merged_path, index=False)\n",
    "\n",
    "# check the head of the frame\n",
    "merged_df.head()\n",
    "\n"
   ]
  },
  {
   "cell_type": "code",
   "execution_count": 14,
   "metadata": {
    "colab": {
     "base_uri": "https://localhost:8080/",
     "height": 206
    },
    "executionInfo": {
     "elapsed": 35,
     "status": "ok",
     "timestamp": 1745465886821,
     "user": {
      "displayName": "Vrishank B.",
      "userId": "12912681986349024348"
     },
     "user_tz": 240
    },
    "id": "WO8r4BQU2-W3",
    "outputId": "8bac2ab4-1dde-4405-9dd1-58a70c1182c4"
   },
   "outputs": [
    {
     "data": {
      "application/vnd.google.colaboratory.intrinsic+json": {
       "summary": "{\n  \"name\": \"clean_df\",\n  \"rows\": 2014,\n  \"fields\": [\n    {\n      \"column\": \"index\",\n      \"properties\": {\n        \"dtype\": \"number\",\n        \"std\": 581,\n        \"min\": 0,\n        \"max\": 2013,\n        \"num_unique_values\": 2014,\n        \"samples\": [\n          1198,\n          526,\n          393\n        ],\n        \"semantic_type\": \"\",\n        \"description\": \"\"\n      }\n    },\n    {\n      \"column\": \"Close\",\n      \"properties\": {\n        \"dtype\": \"string\",\n        \"num_unique_values\": 1938,\n        \"samples\": [\n          \"1.390236735343933\",\n          \"5.180027484893799\",\n          \"5.292460918426514\"\n        ],\n        \"semantic_type\": \"\",\n        \"description\": \"\"\n      }\n    },\n    {\n      \"column\": \"mean\",\n      \"properties\": {\n        \"dtype\": \"number\",\n        \"std\": 0.12154859087684473,\n        \"min\": -0.4246,\n        \"max\": 0.9889,\n        \"num_unique_values\": 1863,\n        \"samples\": [\n          0.38974,\n          0.1993266666666666,\n          0.0102061728395061\n        ],\n        \"semantic_type\": \"\",\n        \"description\": \"\"\n      }\n    }\n  ]\n}",
       "type": "dataframe",
       "variable_name": "clean_df"
      },
      "text/html": [
       "\n",
       "  <div id=\"df-022ea33b-35de-43e2-ab0a-b660d740f1bd\" class=\"colab-df-container\">\n",
       "    <div>\n",
       "<style scoped>\n",
       "    .dataframe tbody tr th:only-of-type {\n",
       "        vertical-align: middle;\n",
       "    }\n",
       "\n",
       "    .dataframe tbody tr th {\n",
       "        vertical-align: top;\n",
       "    }\n",
       "\n",
       "    .dataframe thead th {\n",
       "        text-align: right;\n",
       "    }\n",
       "</style>\n",
       "<table border=\"1\" class=\"dataframe\">\n",
       "  <thead>\n",
       "    <tr style=\"text-align: right;\">\n",
       "      <th></th>\n",
       "      <th>index</th>\n",
       "      <th>Close</th>\n",
       "      <th>mean</th>\n",
       "    </tr>\n",
       "  </thead>\n",
       "  <tbody>\n",
       "    <tr>\n",
       "      <th>0</th>\n",
       "      <td>0</td>\n",
       "      <td>0.3739318549633026</td>\n",
       "      <td>-0.117343</td>\n",
       "    </tr>\n",
       "    <tr>\n",
       "      <th>1</th>\n",
       "      <td>1</td>\n",
       "      <td>0.36945220828056335</td>\n",
       "      <td>0.000000</td>\n",
       "    </tr>\n",
       "    <tr>\n",
       "      <th>2</th>\n",
       "      <td>2</td>\n",
       "      <td>0.37440332770347595</td>\n",
       "      <td>0.102030</td>\n",
       "    </tr>\n",
       "    <tr>\n",
       "      <th>3</th>\n",
       "      <td>3</td>\n",
       "      <td>0.380533367395401</td>\n",
       "      <td>-0.054867</td>\n",
       "    </tr>\n",
       "    <tr>\n",
       "      <th>4</th>\n",
       "      <td>4</td>\n",
       "      <td>0.38572031259536743</td>\n",
       "      <td>0.219977</td>\n",
       "    </tr>\n",
       "  </tbody>\n",
       "</table>\n",
       "</div>\n",
       "    <div class=\"colab-df-buttons\">\n",
       "\n",
       "  <div class=\"colab-df-container\">\n",
       "    <button class=\"colab-df-convert\" onclick=\"convertToInteractive('df-022ea33b-35de-43e2-ab0a-b660d740f1bd')\"\n",
       "            title=\"Convert this dataframe to an interactive table.\"\n",
       "            style=\"display:none;\">\n",
       "\n",
       "  <svg xmlns=\"http://www.w3.org/2000/svg\" height=\"24px\" viewBox=\"0 -960 960 960\">\n",
       "    <path d=\"M120-120v-720h720v720H120Zm60-500h600v-160H180v160Zm220 220h160v-160H400v160Zm0 220h160v-160H400v160ZM180-400h160v-160H180v160Zm440 0h160v-160H620v160ZM180-180h160v-160H180v160Zm440 0h160v-160H620v160Z\"/>\n",
       "  </svg>\n",
       "    </button>\n",
       "\n",
       "  <style>\n",
       "    .colab-df-container {\n",
       "      display:flex;\n",
       "      gap: 12px;\n",
       "    }\n",
       "\n",
       "    .colab-df-convert {\n",
       "      background-color: #E8F0FE;\n",
       "      border: none;\n",
       "      border-radius: 50%;\n",
       "      cursor: pointer;\n",
       "      display: none;\n",
       "      fill: #1967D2;\n",
       "      height: 32px;\n",
       "      padding: 0 0 0 0;\n",
       "      width: 32px;\n",
       "    }\n",
       "\n",
       "    .colab-df-convert:hover {\n",
       "      background-color: #E2EBFA;\n",
       "      box-shadow: 0px 1px 2px rgba(60, 64, 67, 0.3), 0px 1px 3px 1px rgba(60, 64, 67, 0.15);\n",
       "      fill: #174EA6;\n",
       "    }\n",
       "\n",
       "    .colab-df-buttons div {\n",
       "      margin-bottom: 4px;\n",
       "    }\n",
       "\n",
       "    [theme=dark] .colab-df-convert {\n",
       "      background-color: #3B4455;\n",
       "      fill: #D2E3FC;\n",
       "    }\n",
       "\n",
       "    [theme=dark] .colab-df-convert:hover {\n",
       "      background-color: #434B5C;\n",
       "      box-shadow: 0px 1px 3px 1px rgba(0, 0, 0, 0.15);\n",
       "      filter: drop-shadow(0px 1px 2px rgba(0, 0, 0, 0.3));\n",
       "      fill: #FFFFFF;\n",
       "    }\n",
       "  </style>\n",
       "\n",
       "    <script>\n",
       "      const buttonEl =\n",
       "        document.querySelector('#df-022ea33b-35de-43e2-ab0a-b660d740f1bd button.colab-df-convert');\n",
       "      buttonEl.style.display =\n",
       "        google.colab.kernel.accessAllowed ? 'block' : 'none';\n",
       "\n",
       "      async function convertToInteractive(key) {\n",
       "        const element = document.querySelector('#df-022ea33b-35de-43e2-ab0a-b660d740f1bd');\n",
       "        const dataTable =\n",
       "          await google.colab.kernel.invokeFunction('convertToInteractive',\n",
       "                                                    [key], {});\n",
       "        if (!dataTable) return;\n",
       "\n",
       "        const docLinkHtml = 'Like what you see? Visit the ' +\n",
       "          '<a target=\"_blank\" href=https://colab.research.google.com/notebooks/data_table.ipynb>data table notebook</a>'\n",
       "          + ' to learn more about interactive tables.';\n",
       "        element.innerHTML = '';\n",
       "        dataTable['output_type'] = 'display_data';\n",
       "        await google.colab.output.renderOutput(dataTable, element);\n",
       "        const docLink = document.createElement('div');\n",
       "        docLink.innerHTML = docLinkHtml;\n",
       "        element.appendChild(docLink);\n",
       "      }\n",
       "    </script>\n",
       "  </div>\n",
       "\n",
       "\n",
       "<div id=\"df-107b328d-3701-464e-b532-07f2781b5bc4\">\n",
       "  <button class=\"colab-df-quickchart\" onclick=\"quickchart('df-107b328d-3701-464e-b532-07f2781b5bc4')\"\n",
       "            title=\"Suggest charts\"\n",
       "            style=\"display:none;\">\n",
       "\n",
       "<svg xmlns=\"http://www.w3.org/2000/svg\" height=\"24px\"viewBox=\"0 0 24 24\"\n",
       "     width=\"24px\">\n",
       "    <g>\n",
       "        <path d=\"M19 3H5c-1.1 0-2 .9-2 2v14c0 1.1.9 2 2 2h14c1.1 0 2-.9 2-2V5c0-1.1-.9-2-2-2zM9 17H7v-7h2v7zm4 0h-2V7h2v10zm4 0h-2v-4h2v4z\"/>\n",
       "    </g>\n",
       "</svg>\n",
       "  </button>\n",
       "\n",
       "<style>\n",
       "  .colab-df-quickchart {\n",
       "      --bg-color: #E8F0FE;\n",
       "      --fill-color: #1967D2;\n",
       "      --hover-bg-color: #E2EBFA;\n",
       "      --hover-fill-color: #174EA6;\n",
       "      --disabled-fill-color: #AAA;\n",
       "      --disabled-bg-color: #DDD;\n",
       "  }\n",
       "\n",
       "  [theme=dark] .colab-df-quickchart {\n",
       "      --bg-color: #3B4455;\n",
       "      --fill-color: #D2E3FC;\n",
       "      --hover-bg-color: #434B5C;\n",
       "      --hover-fill-color: #FFFFFF;\n",
       "      --disabled-bg-color: #3B4455;\n",
       "      --disabled-fill-color: #666;\n",
       "  }\n",
       "\n",
       "  .colab-df-quickchart {\n",
       "    background-color: var(--bg-color);\n",
       "    border: none;\n",
       "    border-radius: 50%;\n",
       "    cursor: pointer;\n",
       "    display: none;\n",
       "    fill: var(--fill-color);\n",
       "    height: 32px;\n",
       "    padding: 0;\n",
       "    width: 32px;\n",
       "  }\n",
       "\n",
       "  .colab-df-quickchart:hover {\n",
       "    background-color: var(--hover-bg-color);\n",
       "    box-shadow: 0 1px 2px rgba(60, 64, 67, 0.3), 0 1px 3px 1px rgba(60, 64, 67, 0.15);\n",
       "    fill: var(--button-hover-fill-color);\n",
       "  }\n",
       "\n",
       "  .colab-df-quickchart-complete:disabled,\n",
       "  .colab-df-quickchart-complete:disabled:hover {\n",
       "    background-color: var(--disabled-bg-color);\n",
       "    fill: var(--disabled-fill-color);\n",
       "    box-shadow: none;\n",
       "  }\n",
       "\n",
       "  .colab-df-spinner {\n",
       "    border: 2px solid var(--fill-color);\n",
       "    border-color: transparent;\n",
       "    border-bottom-color: var(--fill-color);\n",
       "    animation:\n",
       "      spin 1s steps(1) infinite;\n",
       "  }\n",
       "\n",
       "  @keyframes spin {\n",
       "    0% {\n",
       "      border-color: transparent;\n",
       "      border-bottom-color: var(--fill-color);\n",
       "      border-left-color: var(--fill-color);\n",
       "    }\n",
       "    20% {\n",
       "      border-color: transparent;\n",
       "      border-left-color: var(--fill-color);\n",
       "      border-top-color: var(--fill-color);\n",
       "    }\n",
       "    30% {\n",
       "      border-color: transparent;\n",
       "      border-left-color: var(--fill-color);\n",
       "      border-top-color: var(--fill-color);\n",
       "      border-right-color: var(--fill-color);\n",
       "    }\n",
       "    40% {\n",
       "      border-color: transparent;\n",
       "      border-right-color: var(--fill-color);\n",
       "      border-top-color: var(--fill-color);\n",
       "    }\n",
       "    60% {\n",
       "      border-color: transparent;\n",
       "      border-right-color: var(--fill-color);\n",
       "    }\n",
       "    80% {\n",
       "      border-color: transparent;\n",
       "      border-right-color: var(--fill-color);\n",
       "      border-bottom-color: var(--fill-color);\n",
       "    }\n",
       "    90% {\n",
       "      border-color: transparent;\n",
       "      border-bottom-color: var(--fill-color);\n",
       "    }\n",
       "  }\n",
       "</style>\n",
       "\n",
       "  <script>\n",
       "    async function quickchart(key) {\n",
       "      const quickchartButtonEl =\n",
       "        document.querySelector('#' + key + ' button');\n",
       "      quickchartButtonEl.disabled = true;  // To prevent multiple clicks.\n",
       "      quickchartButtonEl.classList.add('colab-df-spinner');\n",
       "      try {\n",
       "        const charts = await google.colab.kernel.invokeFunction(\n",
       "            'suggestCharts', [key], {});\n",
       "      } catch (error) {\n",
       "        console.error('Error during call to suggestCharts:', error);\n",
       "      }\n",
       "      quickchartButtonEl.classList.remove('colab-df-spinner');\n",
       "      quickchartButtonEl.classList.add('colab-df-quickchart-complete');\n",
       "    }\n",
       "    (() => {\n",
       "      let quickchartButtonEl =\n",
       "        document.querySelector('#df-107b328d-3701-464e-b532-07f2781b5bc4 button');\n",
       "      quickchartButtonEl.style.display =\n",
       "        google.colab.kernel.accessAllowed ? 'block' : 'none';\n",
       "    })();\n",
       "  </script>\n",
       "</div>\n",
       "\n",
       "    </div>\n",
       "  </div>\n"
      ],
      "text/plain": [
       "   index                Close      mean\n",
       "0      0   0.3739318549633026 -0.117343\n",
       "1      1  0.36945220828056335  0.000000\n",
       "2      2  0.37440332770347595  0.102030\n",
       "3      3    0.380533367395401 -0.054867\n",
       "4      4  0.38572031259536743  0.219977"
      ]
     },
     "execution_count": 14,
     "metadata": {},
     "output_type": "execute_result"
    }
   ],
   "source": [
    "# set df to the merge frame\n",
    "df = merged_df[['Close', 'mean']]\n",
    "\n",
    "# reset the index\n",
    "clean_df = df.reset_index()\n",
    "\n",
    "# check the head of the frame\n",
    "clean_df.head()"
   ]
  },
  {
   "cell_type": "code",
   "execution_count": 15,
   "metadata": {
    "colab": {
     "base_uri": "https://localhost:8080/"
    },
    "executionInfo": {
     "elapsed": 13,
     "status": "ok",
     "timestamp": 1745465888422,
     "user": {
      "displayName": "Vrishank B.",
      "userId": "12912681986349024348"
     },
     "user_tz": 240
    },
    "id": "rZMpTL1C3H_P",
    "outputId": "8f2f628b-2428-42e1-86f0-20369c167508"
   },
   "outputs": [
    {
     "name": "stdout",
     "output_type": "stream",
     "text": [
      "            Close_lag3  Sent_lag3           Close_lag2  Sent_lag2  \\\n",
      "3   0.3739318549633026  -0.117343  0.36945220828056335   0.000000   \n",
      "4  0.36945220828056335   0.000000  0.37440332770347595   0.102030   \n",
      "5  0.37440332770347595   0.102030    0.380533367395401  -0.054867   \n",
      "6    0.380533367395401  -0.054867  0.38572031259536743   0.219977   \n",
      "7  0.38572031259536743   0.219977   0.3713383376598358   0.246258   \n",
      "\n",
      "            Close_lag1  Sent_lag1                Close  \n",
      "3  0.37440332770347595   0.102030    0.380533367395401  \n",
      "4    0.380533367395401  -0.054867  0.38572031259536743  \n",
      "5  0.38572031259536743   0.219977   0.3713383376598358  \n",
      "6   0.3713383376598358   0.246258   0.3708667755126953  \n",
      "7   0.3708667755126953   0.076625   0.3621434271335602  \n"
     ]
    }
   ],
   "source": [
    "clean_df = clean_df.copy()\n",
    "\n",
    "# create lag features for past 3 days' closing prices\n",
    "clean_df.loc[:, 'Close_lag1'] = clean_df['Close'].shift(1)\n",
    "clean_df.loc[:, 'Close_lag2'] = clean_df['Close'].shift(2)\n",
    "clean_df.loc[:, 'Close_lag3'] = clean_df['Close'].shift(3)\n",
    "\n",
    "# create lag feature for the past 3 day's sentiment\n",
    "clean_df.loc[:, 'Sent_lag1']  = clean_df['mean'].shift(1)\n",
    "clean_df.loc[:, 'Sent_lag2']  = clean_df['mean'].shift(2)\n",
    "clean_df.loc[:, 'Sent_lag3']  = clean_df['mean'].shift(3)\n",
    "\n",
    "# drop any na created from the shift\n",
    "clean_df = clean_df.dropna()\n",
    "\n",
    "# reorder columns\n",
    "clean_df = clean_df[\n",
    "    ['Close_lag3', 'Sent_lag3',\n",
    "     'Close_lag2', 'Sent_lag2',\n",
    "     'Close_lag1', 'Sent_lag1',\n",
    "     'Close']\n",
    "    ]\n",
    "\n",
    "# select features and label variable\n",
    "features = [\n",
    "    'Close_lag3', 'Sent_lag3',\n",
    "    'Close_lag2', 'Sent_lag2',\n",
    "    'Close_lag1', 'Sent_lag1'\n",
    "    ]\n",
    "target = 'Close'\n",
    "\n",
    "# prepare X (features) and y (label)\n",
    "X = clean_df[features].values\n",
    "y = clean_df[target].values\n",
    "\n",
    "# check the head of the frame\n",
    "print(clean_df.head())"
   ]
  },
  {
   "cell_type": "code",
   "execution_count": 16,
   "metadata": {
    "colab": {
     "base_uri": "https://localhost:8080/"
    },
    "executionInfo": {
     "elapsed": 11,
     "status": "ok",
     "timestamp": 1745465921229,
     "user": {
      "displayName": "Vrishank B.",
      "userId": "12912681986349024348"
     },
     "user_tz": 240
    },
    "id": "_3Mc_xKi4Btg",
    "outputId": "2dc95006-1f0f-4501-9fc4-a6f1ab662a1a"
   },
   "outputs": [
    {
     "data": {
      "text/plain": [
       "((1937,), (1937, 6, 1), (1937,))"
      ]
     },
     "execution_count": 16,
     "metadata": {},
     "output_type": "execute_result"
    }
   ],
   "source": [
    "\n",
    "# converting dataframe to numpy array\n",
    "df_as_np = clean_df.to_numpy()\n",
    "\n",
    "# extracting dates\n",
    "dates = np.array(clean_df.index)\n",
    "\n",
    "# extract all columns excepting last one\n",
    "middle_matrix = df_as_np[:, 0:-1]\n",
    "\n",
    "# reshaping matrix to fit into a LSTM\n",
    "X = middle_matrix.reshape((len(dates), middle_matrix.shape[1], 1)).astype(str)\n",
    "X = X.astype(np.float32)\n",
    "\n",
    "# targets\n",
    "Y = df_as_np[:, -1].astype(str)\n",
    "y = Y.astype(np.float32)\n",
    "\n",
    "#double-check shapes\n",
    "dates.shape, X.shape, y.shape"
   ]
  },
  {
   "cell_type": "code",
   "execution_count": 17,
   "metadata": {
    "colab": {
     "base_uri": "https://localhost:8080/",
     "height": 448
    },
    "executionInfo": {
     "elapsed": 1254,
     "status": "ok",
     "timestamp": 1745465924947,
     "user": {
      "displayName": "Vrishank B.",
      "userId": "12912681986349024348"
     },
     "user_tz": 240
    },
    "id": "c42BhbXi4CYR",
    "outputId": "7445155a-0d60-4a00-d56b-58d9dfc0f46e"
   },
   "outputs": [
    {
     "data": {
      "text/plain": [
       "<matplotlib.legend.Legend at 0x7c643ffce010>"
      ]
     },
     "execution_count": 17,
     "metadata": {},
     "output_type": "execute_result"
    },
    {
     "data": {
      "image/png": "[encoded data removed]",
      "text/plain": [
       "<Figure size 640x480 with 1 Axes>"
      ]
     },
     "metadata": {},
     "output_type": "display_data"
    }
   ],
   "source": [
    "# split into training data and remaining val/test data\n",
    "dates_train, dates_rem, X_train, X_rem, y_train, y_rem = train_test_split(\n",
    "    dates, X, y, train_size=0.7, random_state=42, shuffle=False)\n",
    "\n",
    "# split second half into validation and test\n",
    "dates_val, dates_test, X_val, X_test, y_val, y_test = train_test_split(\n",
    "    dates_rem, X_rem, y_rem, test_size=0.5, random_state=42, shuffle=False)\n",
    "\n",
    "# plotting the test, train, and val set\n",
    "plt.plot(dates_train, y_train)\n",
    "plt.plot(dates_val, y_val)\n",
    "plt.plot(dates_test, y_test)\n",
    "\n",
    "plt.legend(['Train', 'Validation', 'Test'])"
   ]
  },
  {
   "cell_type": "code",
   "execution_count": 18,
   "metadata": {
    "colab": {
     "base_uri": "https://localhost:8080/"
    },
    "executionInfo": {
     "elapsed": 21299,
     "status": "ok",
     "timestamp": 1745465962842,
     "user": {
      "displayName": "Vrishank B.",
      "userId": "12912681986349024348"
     },
     "user_tz": 240
    },
    "id": "NoEHOJ6i4Hli",
    "outputId": "15dd2c10-c9f8-4b46-d9dd-2cc0e2faad42"
   },
   "outputs": [
    {
     "name": "stdout",
     "output_type": "stream",
     "text": [
      "Epoch 1/25\n",
      "\u001b[1m43/43\u001b[0m \u001b[32m━━━━━━━━━━━━━━━━━━━━\u001b[0m\u001b[37m\u001b[0m \u001b[1m4s\u001b[0m 20ms/step - loss: 8.0681 - mean_absolute_error: 2.1201 - val_loss: 8.7247 - val_mean_absolute_error: 2.0443\n",
      "Epoch 2/25\n",
      "\u001b[1m43/43\u001b[0m \u001b[32m━━━━━━━━━━━━━━━━━━━━\u001b[0m\u001b[37m\u001b[0m \u001b[1m1s\u001b[0m 12ms/step - loss: 0.3400 - mean_absolute_error: 0.4692 - val_loss: 8.9551 - val_mean_absolute_error: 2.0905\n",
      "Epoch 3/25\n",
      "\u001b[1m43/43\u001b[0m \u001b[32m━━━━━━━━━━━━━━━━━━━━\u001b[0m\u001b[37m\u001b[0m \u001b[1m1s\u001b[0m 12ms/step - loss: 0.0808 - mean_absolute_error: 0.1967 - val_loss: 6.3036 - val_mean_absolute_error: 1.6497\n",
      "Epoch 4/25\n",
      "\u001b[1m43/43\u001b[0m \u001b[32m━━━━━━━━━━━━━━━━━━━━\u001b[0m\u001b[37m\u001b[0m \u001b[1m1s\u001b[0m 12ms/step - loss: 0.0647 - mean_absolute_error: 0.1775 - val_loss: 5.4897 - val_mean_absolute_error: 1.5160\n",
      "Epoch 5/25\n",
      "\u001b[1m43/43\u001b[0m \u001b[32m━━━━━━━━━━━━━━━━━━━━\u001b[0m\u001b[37m\u001b[0m \u001b[1m1s\u001b[0m 13ms/step - loss: 0.0607 - mean_absolute_error: 0.1737 - val_loss: 5.0499 - val_mean_absolute_error: 1.4473\n",
      "Epoch 6/25\n",
      "\u001b[1m43/43\u001b[0m \u001b[32m━━━━━━━━━━━━━━━━━━━━\u001b[0m\u001b[37m\u001b[0m \u001b[1m1s\u001b[0m 21ms/step - loss: 0.0623 - mean_absolute_error: 0.1722 - val_loss: 5.3490 - val_mean_absolute_error: 1.5290\n",
      "Epoch 7/25\n",
      "\u001b[1m43/43\u001b[0m \u001b[32m━━━━━━━━━━━━━━━━━━━━\u001b[0m\u001b[37m\u001b[0m \u001b[1m1s\u001b[0m 20ms/step - loss: 0.0579 - mean_absolute_error: 0.1693 - val_loss: 4.9628 - val_mean_absolute_error: 1.4406\n",
      "Epoch 8/25\n",
      "\u001b[1m43/43\u001b[0m \u001b[32m━━━━━━━━━━━━━━━━━━━━\u001b[0m\u001b[37m\u001b[0m \u001b[1m1s\u001b[0m 17ms/step - loss: 0.0613 - mean_absolute_error: 0.1715 - val_loss: 4.4459 - val_mean_absolute_error: 1.3515\n",
      "Epoch 9/25\n",
      "\u001b[1m43/43\u001b[0m \u001b[32m━━━━━━━━━━━━━━━━━━━━\u001b[0m\u001b[37m\u001b[0m \u001b[1m1s\u001b[0m 11ms/step - loss: 0.0561 - mean_absolute_error: 0.1652 - val_loss: 4.8435 - val_mean_absolute_error: 1.4403\n",
      "Epoch 10/25\n",
      "\u001b[1m43/43\u001b[0m \u001b[32m━━━━━━━━━━━━━━━━━━━━\u001b[0m\u001b[37m\u001b[0m \u001b[1m1s\u001b[0m 11ms/step - loss: 0.0569 - mean_absolute_error: 0.1601 - val_loss: 4.8535 - val_mean_absolute_error: 1.4497\n",
      "Epoch 11/25\n",
      "\u001b[1m43/43\u001b[0m \u001b[32m━━━━━━━━━━━━━━━━━━━━\u001b[0m\u001b[37m\u001b[0m \u001b[1m1s\u001b[0m 11ms/step - loss: 0.0556 - mean_absolute_error: 0.1696 - val_loss: 4.5164 - val_mean_absolute_error: 1.3781\n",
      "Epoch 12/25\n",
      "\u001b[1m43/43\u001b[0m \u001b[32m━━━━━━━━━━━━━━━━━━━━\u001b[0m\u001b[37m\u001b[0m \u001b[1m1s\u001b[0m 11ms/step - loss: 0.0548 - mean_absolute_error: 0.1650 - val_loss: 4.4417 - val_mean_absolute_error: 1.3717\n",
      "Epoch 13/25\n",
      "\u001b[1m43/43\u001b[0m \u001b[32m━━━━━━━━━━━━━━━━━━━━\u001b[0m\u001b[37m\u001b[0m \u001b[1m1s\u001b[0m 11ms/step - loss: 0.0505 - mean_absolute_error: 0.1600 - val_loss: 4.8010 - val_mean_absolute_error: 1.4846\n",
      "Epoch 14/25\n",
      "\u001b[1m43/43\u001b[0m \u001b[32m━━━━━━━━━━━━━━━━━━━━\u001b[0m\u001b[37m\u001b[0m \u001b[1m1s\u001b[0m 11ms/step - loss: 0.0556 - mean_absolute_error: 0.1601 - val_loss: 4.3524 - val_mean_absolute_error: 1.3549\n",
      "Epoch 15/25\n",
      "\u001b[1m43/43\u001b[0m \u001b[32m━━━━━━━━━━━━━━━━━━━━\u001b[0m\u001b[37m\u001b[0m \u001b[1m1s\u001b[0m 11ms/step - loss: 0.0508 - mean_absolute_error: 0.1546 - val_loss: 4.1323 - val_mean_absolute_error: 1.3119\n",
      "Epoch 16/25\n",
      "\u001b[1m43/43\u001b[0m \u001b[32m━━━━━━━━━━━━━━━━━━━━\u001b[0m\u001b[37m\u001b[0m \u001b[1m1s\u001b[0m 11ms/step - loss: 0.0525 - mean_absolute_error: 0.1577 - val_loss: 4.3158 - val_mean_absolute_error: 1.3699\n",
      "Epoch 17/25\n",
      "\u001b[1m43/43\u001b[0m \u001b[32m━━━━━━━━━━━━━━━━━━━━\u001b[0m\u001b[37m\u001b[0m \u001b[1m1s\u001b[0m 11ms/step - loss: 0.0455 - mean_absolute_error: 0.1490 - val_loss: 4.1516 - val_mean_absolute_error: 1.3461\n",
      "Epoch 18/25\n",
      "\u001b[1m43/43\u001b[0m \u001b[32m━━━━━━━━━━━━━━━━━━━━\u001b[0m\u001b[37m\u001b[0m \u001b[1m1s\u001b[0m 11ms/step - loss: 0.0397 - mean_absolute_error: 0.1400 - val_loss: 3.9048 - val_mean_absolute_error: 1.2757\n",
      "Epoch 19/25\n",
      "\u001b[1m43/43\u001b[0m \u001b[32m━━━━━━━━━━━━━━━━━━━━\u001b[0m\u001b[37m\u001b[0m \u001b[1m1s\u001b[0m 11ms/step - loss: 0.0427 - mean_absolute_error: 0.1463 - val_loss: 3.8116 - val_mean_absolute_error: 1.2593\n",
      "Epoch 20/25\n",
      "\u001b[1m43/43\u001b[0m \u001b[32m━━━━━━━━━━━━━━━━━━━━\u001b[0m\u001b[37m\u001b[0m \u001b[1m1s\u001b[0m 11ms/step - loss: 0.0598 - mean_absolute_error: 0.1745 - val_loss: 5.3690 - val_mean_absolute_error: 1.6997\n",
      "Epoch 21/25\n",
      "\u001b[1m43/43\u001b[0m \u001b[32m━━━━━━━━━━━━━━━━━━━━\u001b[0m\u001b[37m\u001b[0m \u001b[1m1s\u001b[0m 13ms/step - loss: 0.0587 - mean_absolute_error: 0.1637 - val_loss: 3.7082 - val_mean_absolute_error: 1.2476\n",
      "Epoch 22/25\n",
      "\u001b[1m43/43\u001b[0m \u001b[32m━━━━━━━━━━━━━━━━━━━━\u001b[0m\u001b[37m\u001b[0m \u001b[1m1s\u001b[0m 12ms/step - loss: 0.0466 - mean_absolute_error: 0.1495 - val_loss: 3.7968 - val_mean_absolute_error: 1.2967\n",
      "Epoch 23/25\n",
      "\u001b[1m43/43\u001b[0m \u001b[32m━━━━━━━━━━━━━━━━━━━━\u001b[0m\u001b[37m\u001b[0m \u001b[1m1s\u001b[0m 11ms/step - loss: 0.0472 - mean_absolute_error: 0.1522 - val_loss: 2.9448 - val_mean_absolute_error: 1.1034\n",
      "Epoch 24/25\n",
      "\u001b[1m43/43\u001b[0m \u001b[32m━━━━━━━━━━━━━━━━━━━━\u001b[0m\u001b[37m\u001b[0m \u001b[1m1s\u001b[0m 16ms/step - loss: 0.0527 - mean_absolute_error: 0.1583 - val_loss: 3.8019 - val_mean_absolute_error: 1.2985\n",
      "Epoch 25/25\n",
      "\u001b[1m43/43\u001b[0m \u001b[32m━━━━━━━━━━━━━━━━━━━━\u001b[0m\u001b[37m\u001b[0m \u001b[1m2s\u001b[0m 22ms/step - loss: 0.0417 - mean_absolute_error: 0.1444 - val_loss: 3.2369 - val_mean_absolute_error: 1.1593\n",
      "<bound method Model.summary of <Sequential name=sequential, built=True>>\n"
     ]
    }
   ],
   "source": [
    "# creating LSTM\n",
    "model = Sequential([layers.Input((3, 1)),\n",
    "                    layers.LSTM(128),\n",
    "                    layers.Dropout(0.2),\n",
    "                    layers.Dense(32, activation='relu'),\n",
    "                    layers.Dense(32, activation='relu'),\n",
    "                    layers.Dense(1)])\n",
    "\n",
    "# defining the loss function and optimizer with Adam\n",
    "model.compile(loss='mse',\n",
    "              optimizer=Adam(learning_rate=0.0005),\n",
    "              metrics=['mean_absolute_error'])\n",
    "\n",
    "# training the model\n",
    "model.fit(X_train, y_train, validation_data=(X_val, y_val), epochs=25)\n",
    "print(model.summary)"
   ]
  },
  {
   "cell_type": "code",
   "execution_count": 19,
   "metadata": {
    "colab": {
     "base_uri": "https://localhost:8080/",
     "height": 466
    },
    "executionInfo": {
     "elapsed": 870,
     "status": "ok",
     "timestamp": 1745465970853,
     "user": {
      "displayName": "Vrishank B.",
      "userId": "12912681986349024348"
     },
     "user_tz": 240
    },
    "id": "sQqPMwZi4QJk",
    "outputId": "4065def6-94c0-447f-9752-dcb32facbf72"
   },
   "outputs": [
    {
     "name": "stdout",
     "output_type": "stream",
     "text": [
      "\u001b[1m43/43\u001b[0m \u001b[32m━━━━━━━━━━━━━━━━━━━━\u001b[0m\u001b[37m\u001b[0m \u001b[1m1s\u001b[0m 8ms/step\n"
     ]
    },
    {
     "data": {
      "text/plain": [
       "<matplotlib.legend.Legend at 0x7c643c5b0810>"
      ]
     },
     "execution_count": 19,
     "metadata": {},
     "output_type": "execute_result"
    },
    {
     "data": {
      "image/png": "[encoded data removed]",
      "text/plain": [
       "<Figure size 640x480 with 1 Axes>"
      ]
     },
     "metadata": {},
     "output_type": "display_data"
    }
   ],
   "source": [
    "# seeing how our model performed on training data\n",
    "train_predictions = model.predict(X_train)\n",
    "plt.plot(dates_train, train_predictions)\n",
    "plt.plot(dates_train, y_train)\n",
    "plt.legend(['Training Predictions', 'Training Observations'])"
   ]
  },
  {
   "cell_type": "code",
   "execution_count": 20,
   "metadata": {
    "colab": {
     "base_uri": "https://localhost:8080/",
     "height": 466
    },
    "executionInfo": {
     "elapsed": 530,
     "status": "ok",
     "timestamp": 1745465987110,
     "user": {
      "displayName": "Vrishank B.",
      "userId": "12912681986349024348"
     },
     "user_tz": 240
    },
    "id": "etPX9QZl4UWs",
    "outputId": "6e6f0b3a-6953-4f4d-8882-4cff46b04af7"
   },
   "outputs": [
    {
     "name": "stdout",
     "output_type": "stream",
     "text": [
      "\u001b[1m10/10\u001b[0m \u001b[32m━━━━━━━━━━━━━━━━━━━━\u001b[0m\u001b[37m\u001b[0m \u001b[1m0s\u001b[0m 10ms/step\n"
     ]
    },
    {
     "data": {
      "text/plain": [
       "<matplotlib.legend.Legend at 0x7c643ceafc50>"
      ]
     },
     "execution_count": 20,
     "metadata": {},
     "output_type": "execute_result"
    },
    {
     "data": {
      "image/png": "[encoded data removed]",
      "text/plain": [
       "<Figure size 640x480 with 1 Axes>"
      ]
     },
     "metadata": {},
     "output_type": "display_data"
    }
   ],
   "source": [
    "# seeing how our model performed on validation data\n",
    "val_predictions = model.predict(X_val)\n",
    "plt.plot(dates_val, val_predictions)\n",
    "plt.plot(dates_val, y_val)\n",
    "plt.legend(['Validation Predictions', 'Validation Observations'])"
   ]
  },
  {
   "cell_type": "code",
   "execution_count": 21,
   "metadata": {
    "colab": {
     "base_uri": "https://localhost:8080/",
     "height": 515
    },
    "executionInfo": {
     "elapsed": 639,
     "status": "ok",
     "timestamp": 1745465998409,
     "user": {
      "displayName": "Vrishank B.",
      "userId": "12912681986349024348"
     },
     "user_tz": 240
    },
    "id": "-bl2vqkX4W5i",
    "outputId": "934746f4-c906-418f-f967-493f56ce274d"
   },
   "outputs": [
    {
     "name": "stdout",
     "output_type": "stream",
     "text": [
      "\u001b[1m10/10\u001b[0m \u001b[32m━━━━━━━━━━━━━━━━━━━━\u001b[0m\u001b[37m\u001b[0m \u001b[1m0s\u001b[0m 10ms/step\n"
     ]
    },
    {
     "data": {
      "text/plain": [
       "<matplotlib.legend.Legend at 0x7c643df2f550>"
      ]
     },
     "execution_count": 21,
     "metadata": {},
     "output_type": "execute_result"
    },
    {
     "data": {
      "image/png": "[encoded data removed]",
      "text/plain": [
       "<Figure size 640x480 with 1 Axes>"
      ]
     },
     "metadata": {},
     "output_type": "display_data"
    }
   ],
   "source": [
    "# seeing how our model performed on test data\n",
    "test_predictions = model.predict(X_test)\n",
    "plt.plot(dates_test, test_predictions)\n",
    "plt.plot(dates_test, y_test)\n",
    "plt.title('Model Performance: Testing', fontsize=16)\n",
    "plt.xlabel('Date', fontsize=14)\n",
    "plt.ylabel('Closing Price', fontsize=14)\n",
    "plt.legend(['Testing Predictions', 'Testing Observations'])\n",
    "\n",
    "# further evaulations\n",
    "mse = mean_squared_error(y_test, test_predictions)\n",
    "rmse = np.sqrt(mse)\n",
    "mae = mean_absolute_error(y_test, test_predictions)\n",
    "r2 = r2_score(y_test, test_predictions)\n",
    "\n",
    "print(f\"RMSE: {rmse:.2f}\")\n",
    "print(f\"MAE: {mae:.2f}\")\n",
    "print(f\"R² Score: {r2:.3f}\")"
   ]
  }
 ],
 "metadata": {
  "colab": {
   "authorship_tag": "ABX9TyOEnOTIbD2PoMoFK/NUhHwQ",
   "provenance": []
  },
  "kernelspec": {
   "display_name": "Python [conda env:base] *",
   "language": "python",
   "name": "conda-base-py"
  },
  "language_info": {
   "codemirror_mode": {
    "name": "ipython",
    "version": 3
   },
   "file_extension": ".py",
   "mimetype": "text/x-python",
   "name": "python",
   "nbconvert_exporter": "python",
   "pygments_lexer": "ipython3",
   "version": "3.12.7"
  }
 },
 "nbformat": 4,
 "nbformat_minor": 4
}
